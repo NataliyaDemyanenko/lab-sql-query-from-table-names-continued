{
  "cells": [
    {
      "cell_type": "markdown",
      "id": "7d930c89-4954-4e39-be5a-601c1dd89512",
      "metadata": {
        "id": "7d930c89-4954-4e39-be5a-601c1dd89512"
      },
      "source": [
        "# SQL query from table names - Continued"
      ]
    },
    {
      "cell_type": "code",
      "execution_count": null,
      "id": "a03f026a",
      "metadata": {
        "id": "a03f026a"
      },
      "outputs": [],
      "source": [
        "#from openai import OpenAI\n",
        "#import os\n",
        "#from dotenv import load_dotenv, find_dotenv\n",
        "#_ = load_dotenv(find_dotenv())\n",
        "\n",
        "#OPENAI_API_KEY  = os.getenv('OPENAI_API_KEY')"
      ]
    },
    {
      "cell_type": "code",
      "source": [
        "pip install openai"
      ],
      "metadata": {
        "colab": {
          "base_uri": "https://localhost:8080/"
        },
        "id": "z8em5m8hfWT_",
        "outputId": "585ac356-f5b5-4299-a202-08ffa6333747"
      },
      "id": "z8em5m8hfWT_",
      "execution_count": 1,
      "outputs": [
        {
          "output_type": "stream",
          "name": "stdout",
          "text": [
            "Collecting openai\n",
            "  Downloading openai-1.34.0-py3-none-any.whl (325 kB)\n",
            "\u001b[2K     \u001b[90m━━━━━━━━━━━━━━━━━━━━━━━━━━━━━━━━━━━━━━━━\u001b[0m \u001b[32m325.5/325.5 kB\u001b[0m \u001b[31m1.8 MB/s\u001b[0m eta \u001b[36m0:00:00\u001b[0m\n",
            "\u001b[?25hRequirement already satisfied: anyio<5,>=3.5.0 in /usr/local/lib/python3.10/dist-packages (from openai) (3.7.1)\n",
            "Requirement already satisfied: distro<2,>=1.7.0 in /usr/lib/python3/dist-packages (from openai) (1.7.0)\n",
            "Collecting httpx<1,>=0.23.0 (from openai)\n",
            "  Downloading httpx-0.27.0-py3-none-any.whl (75 kB)\n",
            "\u001b[2K     \u001b[90m━━━━━━━━━━━━━━━━━━━━━━━━━━━━━━━━━━━━━━━━\u001b[0m \u001b[32m75.6/75.6 kB\u001b[0m \u001b[31m3.4 MB/s\u001b[0m eta \u001b[36m0:00:00\u001b[0m\n",
            "\u001b[?25hRequirement already satisfied: pydantic<3,>=1.9.0 in /usr/local/lib/python3.10/dist-packages (from openai) (2.7.3)\n",
            "Requirement already satisfied: sniffio in /usr/local/lib/python3.10/dist-packages (from openai) (1.3.1)\n",
            "Requirement already satisfied: tqdm>4 in /usr/local/lib/python3.10/dist-packages (from openai) (4.66.4)\n",
            "Requirement already satisfied: typing-extensions<5,>=4.7 in /usr/local/lib/python3.10/dist-packages (from openai) (4.12.2)\n",
            "Requirement already satisfied: idna>=2.8 in /usr/local/lib/python3.10/dist-packages (from anyio<5,>=3.5.0->openai) (3.7)\n",
            "Requirement already satisfied: exceptiongroup in /usr/local/lib/python3.10/dist-packages (from anyio<5,>=3.5.0->openai) (1.2.1)\n",
            "Requirement already satisfied: certifi in /usr/local/lib/python3.10/dist-packages (from httpx<1,>=0.23.0->openai) (2024.6.2)\n",
            "Collecting httpcore==1.* (from httpx<1,>=0.23.0->openai)\n",
            "  Downloading httpcore-1.0.5-py3-none-any.whl (77 kB)\n",
            "\u001b[2K     \u001b[90m━━━━━━━━━━━━━━━━━━━━━━━━━━━━━━━━━━━━━━━━\u001b[0m \u001b[32m77.9/77.9 kB\u001b[0m \u001b[31m5.2 MB/s\u001b[0m eta \u001b[36m0:00:00\u001b[0m\n",
            "\u001b[?25hCollecting h11<0.15,>=0.13 (from httpcore==1.*->httpx<1,>=0.23.0->openai)\n",
            "  Downloading h11-0.14.0-py3-none-any.whl (58 kB)\n",
            "\u001b[2K     \u001b[90m━━━━━━━━━━━━━━━━━━━━━━━━━━━━━━━━━━━━━━━━\u001b[0m \u001b[32m58.3/58.3 kB\u001b[0m \u001b[31m3.7 MB/s\u001b[0m eta \u001b[36m0:00:00\u001b[0m\n",
            "\u001b[?25hRequirement already satisfied: annotated-types>=0.4.0 in /usr/local/lib/python3.10/dist-packages (from pydantic<3,>=1.9.0->openai) (0.7.0)\n",
            "Requirement already satisfied: pydantic-core==2.18.4 in /usr/local/lib/python3.10/dist-packages (from pydantic<3,>=1.9.0->openai) (2.18.4)\n",
            "Installing collected packages: h11, httpcore, httpx, openai\n",
            "Successfully installed h11-0.14.0 httpcore-1.0.5 httpx-0.27.0 openai-1.34.0\n"
          ]
        }
      ]
    },
    {
      "cell_type": "code",
      "source": [
        "from openai import OpenAI\n",
        "import os\n",
        "\n",
        "from google.colab import userdata\n",
        "\n",
        "OPENAI_API_KEY = userdata.get('IronAPI')"
      ],
      "metadata": {
        "id": "NmUk0X4MfcmK"
      },
      "id": "NmUk0X4MfcmK",
      "execution_count": 2,
      "outputs": []
    },
    {
      "cell_type": "markdown",
      "id": "53a05b80-88fd-42b2-ba89-763074ae74e9",
      "metadata": {
        "id": "53a05b80-88fd-42b2-ba89-763074ae74e9"
      },
      "source": [
        "## The old Prompt"
      ]
    },
    {
      "cell_type": "code",
      "execution_count": 6,
      "id": "922f8d24",
      "metadata": {
        "id": "922f8d24"
      },
      "outputs": [],
      "source": [
        "#The old prompt\n",
        "old_context = [ {'role':'system', 'content':\"\"\"\n",
        "you are a bot to assist in create SQL commands, all your answers should start with \\\n",
        "this is your SQL, and after that an SQL that can do what the user request. \\\n",
        "Your Database is composed by a SQL database with some tables. \\\n",
        "Try to maintain the SQL order simple.\n",
        "Put the SQL command in white letters with a black background, and just after \\\n",
        "a simple and concise text explaining how it works.\n",
        "If the user ask for something that can not be solved with an SQL Order \\\n",
        "just answer something nice and simple, maximum 10 words, asking him for something that \\\n",
        "can be solved with SQL.\n",
        "\"\"\"} ]\n",
        "\n",
        "old_context.append( {'role':'system', 'content':\"\"\"\n",
        "first table:\n",
        "{\n",
        "  \"tableName\": \"employees\",\n",
        "  \"fields\": [\n",
        "    {\n",
        "      \"nombre\": \"ID_usr\",\n",
        "      \"tipo\": \"int\"\n",
        "    },\n",
        "    {\n",
        "      \"nombre\": \"name\",\n",
        "      \"tipo\": \"varchar\"\n",
        "    }\n",
        "  ]\n",
        "}\n",
        "\"\"\"\n",
        "})\n",
        "\n",
        "old_context.append( {'role':'system', 'content':\"\"\"\n",
        "second table:\n",
        "{\n",
        "  \"tableName\": \"salary\",\n",
        "  \"fields\": [\n",
        "    {\n",
        "      \"nombre\": \"ID_usr\",\n",
        "      \"type\": \"int\"\n",
        "    },\n",
        "    {\n",
        "      \"name\": \"year\",\n",
        "      \"type\": \"date\"\n",
        "    },\n",
        "    {\n",
        "      \"name\": \"salary\",\n",
        "      \"type\": \"float\"\n",
        "    }\n",
        "  ]\n",
        "}\n",
        "\"\"\"\n",
        "})\n",
        "\n",
        "old_context.append( {'role':'system', 'content':\"\"\"\n",
        "third table:\n",
        "{\n",
        "  \"tablename\": \"studies\",\n",
        "  \"fields\": [\n",
        "    {\n",
        "      \"name\": \"ID\",\n",
        "      \"type\": \"int\"\n",
        "    },\n",
        "    {\n",
        "      \"name\": \"ID_usr\",\n",
        "      \"type\": \"int\"\n",
        "    },\n",
        "    {\n",
        "      \"name\": \"educational_level\",\n",
        "      \"type\": \"int\"\n",
        "    },\n",
        "    {\n",
        "      \"name\": \"Institution\",\n",
        "      \"type\": \"varchar\"\n",
        "    },\n",
        "    {\n",
        "      \"name\": \"Years\",\n",
        "      \"type\": \"date\"\n",
        "    }\n",
        "    {\n",
        "      \"name\": \"Speciality\",\n",
        "      \"type\": \"varchar\"\n",
        "    }\n",
        "  ]\n",
        "}\n",
        "\"\"\"\n",
        "})"
      ]
    },
    {
      "cell_type": "markdown",
      "id": "377acaae-7dd0-4d13-bc68-9e33741c231c",
      "metadata": {
        "id": "377acaae-7dd0-4d13-bc68-9e33741c231c"
      },
      "source": [
        "## New Prompt.\n",
        "We are going to improve it following the instructions of a Paper from the Ohaio University: [How to Prompt LLMs for Text-to-SQL: A Study in Zero-shot, Single-domain, and Cross-domain Settings](https://arxiv.org/abs/2305.11853). I recommend you read that paper.\n",
        "\n",
        "For each table, we will define the structure using the same syntax as in a SQL create table command, and add the sample rows of the content.\n",
        "\n",
        "Finally, at the end of the prompt, we'll include some example queries with the SQL that the model should generate. This technique is called Few-Shot Samples, in which we provide the prompt with some examples to assist it in generating the correct SQL.\n"
      ]
    },
    {
      "cell_type": "code",
      "execution_count": 9,
      "id": "5334f942",
      "metadata": {
        "id": "5334f942"
      },
      "outputs": [],
      "source": [
        "context = [\n",
        "    {\n",
        "        'role': 'system',\n",
        "        'content': \"\"\"\n",
        "you are a bot to assist in creating SQL commands, all your answers should start with \"this is your SQL,\" and after that an SQL that can do what the user requests. Your Database is composed of a SQL database with some tables. Try to maintain the SQL order simple. Put the SQL command in white letters with a black background, and just after a simple and concise text explaining how it works. If the user asks for something that cannot be solved with an SQL command just answer something nice and simple, maximum 10 words, asking him for something that can be solved with SQL.\n",
        "\"\"\"\n",
        "    },\n",
        "    {\n",
        "        'role': 'system',\n",
        "        'content': \"\"\"\n",
        "-- Define the structure and sample rows for the 'employees' table\n",
        "CREATE TABLE employees (\n",
        "  ID_usr int,\n",
        "  name varchar\n",
        ");\n",
        "\n",
        "INSERT INTO employees (ID_usr, name) VALUES\n",
        "(1, 'John Doe'),\n",
        "(2, 'Jane Smith');\n",
        "\n",
        "-- Define the structure and sample rows for the 'salary' table\n",
        "CREATE TABLE salary (\n",
        "  ID_usr int,\n",
        "  year date,\n",
        "  salary float\n",
        ");\n",
        "\n",
        "INSERT INTO salary (ID_usr, year, salary) VALUES\n",
        "(1, '2023-01-01', 55000),\n",
        "(2, '2023-01-01', 60000);\n",
        "\n",
        "-- Define the structure and sample rows for the 'studies' table\n",
        "CREATE TABLE studies (\n",
        "  ID int,\n",
        "  ID_usr int,\n",
        "  educational_level int,\n",
        "  Institution varchar,\n",
        "  Years date,\n",
        "  Speciality varchar\n",
        ");\n",
        "\n",
        "INSERT INTO studies (ID, ID_usr, educational_level, Institution, Years, Speciality) VALUES\n",
        "(1, 1, 3, 'University A', '2018-01-01', 'Computer Science'),\n",
        "(2, 2, 4, 'University B', '2017-01-01', 'Business Administration');\n",
        "\n",
        "-- Few-Shot Samples with example queries and their corresponding SQL commands\n",
        "\n",
        "-- Example Query 1: Select all employees\n",
        "-- SQL Command:\n",
        "SELECT * FROM employees;\n",
        "\n",
        "-- Example Query 2: Find the salary of an employee by their ID\n",
        "-- SQL Command:\n",
        "SELECT salary FROM salary WHERE ID_usr = 1;\n",
        "\n",
        "-- Example Query 3: List all studies for a specific user\n",
        "-- SQL Command:\n",
        "SELECT * FROM studies WHERE ID_usr = 2;\n",
        "\"\"\"\n",
        "    }\n",
        "]\n"
      ]
    },
    {
      "cell_type": "code",
      "execution_count": 10,
      "id": "330e69b0-3f5f-4bb2-8185-aedded2bb993",
      "metadata": {
        "id": "330e69b0-3f5f-4bb2-8185-aedded2bb993"
      },
      "outputs": [],
      "source": [
        "context.append( {'role':'system', 'content':\"\"\"\n",
        "-- Maintain the SQL order simple and efficient as you can, using valid SQL Lite, answer the following questions for the table provided above.\n",
        "\n",
        "-- Example Query 1: Select all employees\n",
        "-- SQL Command:\n",
        "SELECT * FROM employees;\n",
        "\n",
        "-- Example Query 2: Find the salary of an employee by their ID\n",
        "-- SQL Command:\n",
        "SELECT salary FROM salary WHERE ID_usr = 1;\n",
        "\n",
        "-- Example Query 3: List all studies for a specific user\n",
        "-- SQL Command:\n",
        "SELECT * FROM studies WHERE ID_usr = 2;\n",
        "\"\"\"\n",
        "})"
      ]
    },
    {
      "cell_type": "code",
      "execution_count": 11,
      "id": "b90f417a",
      "metadata": {
        "id": "b90f417a"
      },
      "outputs": [],
      "source": [
        "#Functio to call the model.\n",
        "def return_CCRMSQL(user_message, context):\n",
        "    client = OpenAI(\n",
        "    # This is the default and can be omitted\n",
        "    api_key=OPENAI_API_KEY,\n",
        ")\n",
        "\n",
        "    newcontext = context.copy()\n",
        "    newcontext.append({'role':'user', 'content':\"question: \" + user_message})\n",
        "\n",
        "    response = client.chat.completions.create(\n",
        "            model=\"gpt-3.5-turbo\",\n",
        "            messages=newcontext,\n",
        "            temperature=0,\n",
        "        )\n",
        "\n",
        "    return (response.choices[0].message.content)"
      ]
    },
    {
      "cell_type": "markdown",
      "id": "9e0a4c11-dfe1-46fe-ac2b-3ff825f9749c",
      "metadata": {
        "id": "9e0a4c11-dfe1-46fe-ac2b-3ff825f9749c"
      },
      "source": [
        "## NL2SQL Samples\n",
        "We're going to review some examples generated with the old prompt and others with the new prompt."
      ]
    },
    {
      "cell_type": "code",
      "execution_count": 16,
      "id": "59e8202c-ce34-487e-9037-c65a263423ed",
      "metadata": {
        "colab": {
          "base_uri": "https://localhost:8080/"
        },
        "id": "59e8202c-ce34-487e-9037-c65a263423ed",
        "outputId": "a0b85172-bfd3-493f-bdab-16d81885f111"
      },
      "outputs": [
        {
          "output_type": "stream",
          "name": "stdout",
          "text": [
            "This is your SQL:\n",
            "```sql\n",
            "SELECT e.name, s.salary\n",
            "FROM employees e\n",
            "JOIN salary s ON e.ID_usr = s.ID_usr\n",
            "ORDER BY s.salary DESC\n",
            "LIMIT 1;\n",
            "```\n",
            "\n",
            "This SQL query joins the 'employees' and 'salary' tables on the employee ID, then selects the employee name and salary, orders the result by salary in descending order, and limits the output to only the first row, which corresponds to the employee with the highest salary.\n"
          ]
        }
      ],
      "source": [
        "#new\n",
        "context_user = context.copy()\n",
        "print(return_CCRMSQL(\"Find the employee with the highest salary\", context_user))"
      ]
    },
    {
      "cell_type": "markdown",
      "source": [
        "```sql\n",
        "SELECT e.name\n",
        "FROM employees e\n",
        "JOIN salary s ON e.ID_Usr = s.ID_Usr\n",
        "ORDER BY s.salary DESC\n",
        "LIMIT 1;\n",
        "```"
      ],
      "metadata": {
        "id": "lMoTb2FMpnLK"
      },
      "id": "lMoTb2FMpnLK"
    },
    {
      "cell_type": "code",
      "execution_count": 17,
      "id": "9c4766b1-48a9-456e-bc6c-4b6f41909aa4",
      "metadata": {
        "colab": {
          "base_uri": "https://localhost:8080/"
        },
        "id": "9c4766b1-48a9-456e-bc6c-4b6f41909aa4",
        "outputId": "22da8892-b407-4a57-f85e-39b35fdad7e7"
      },
      "outputs": [
        {
          "output_type": "stream",
          "name": "stdout",
          "text": [
            "This is your SQL:\n",
            "```sql\n",
            "SELECT e.name, s.salary\n",
            "FROM employees e\n",
            "JOIN salary s ON e.ID_usr = s.ID_usr\n",
            "ORDER BY s.salary DESC\n",
            "LIMIT 1;\n",
            "```\n",
            "\n",
            "This SQL query selects the name and salary of the employee with the highest salary by joining the \"employees\" and \"salary\" tables on the ID_usr column. It then orders the results by salary in descending order and limits the output to only the top result, which represents the employee with the highest salary.\n"
          ]
        }
      ],
      "source": [
        "#old\n",
        "old_context_user = old_context.copy()\n",
        "print(return_CCRMSQL(\"Find the employee with the highest salary\", old_context_user))"
      ]
    },
    {
      "cell_type": "markdown",
      "source": [
        "This is your SQL:\n",
        "```sql\n",
        "SELECT e.name\n",
        "FROM employees e\n",
        "JOIN salary s ON e.ID_usr = s.ID_usr\n",
        "ORDER BY s.salary DESC\n",
        "LIMIT 1;\n",
        "```\n",
        "\n",
        "This SQL query retrieves the name of the employee who is best paid by joining the \"employees\" table with the \"salary\" table on the ID_usr field. It then orders the result by salary in descending order and limits the output to only one row, which corresponds to the employee with the highest salary."
      ],
      "metadata": {
        "id": "XKOyH5zgrEEm"
      },
      "id": "XKOyH5zgrEEm"
    },
    {
      "cell_type": "markdown",
      "source": [],
      "metadata": {
        "id": "S_Tk9uGrrBV9"
      },
      "id": "S_Tk9uGrrBV9"
    },
    {
      "cell_type": "code",
      "execution_count": 19,
      "id": "38d8d370-0524-4a28-bd54-5e5cddb08e2c",
      "metadata": {
        "colab": {
          "base_uri": "https://localhost:8080/"
        },
        "id": "38d8d370-0524-4a28-bd54-5e5cddb08e2c",
        "outputId": "e8f77b45-1f69-487f-aec5-ba01c61a95eb"
      },
      "outputs": [
        {
          "output_type": "stream",
          "name": "stdout",
          "text": [
            "this is your SQL:\n",
            "```sql\n",
            "SELECT s.Institution, AVG(sa.salary) AS avg_salary\n",
            "FROM studies s\n",
            "JOIN salary sa ON s.ID_usr = sa.ID_usr\n",
            "GROUP BY s.Institution\n",
            "ORDER BY avg_salary DESC\n",
            "LIMIT 1;\n",
            "```\n",
            "\n",
            "This SQL query joins the 'studies' and 'salary' tables on the user ID, calculates the average salary for each institution, orders the results by average salary in descending order, and then selects the institution with the highest average salary.\n"
          ]
        }
      ],
      "source": [
        "#new\n",
        "print(return_CCRMSQL(\"Find the institution with the highest average salary among employees who have studied\", context_user))"
      ]
    },
    {
      "cell_type": "markdown",
      "source": [
        "```sql\n",
        "SELECT st.Institution, AVG(sa.salary) AS avg_salary\n",
        "FROM studies st\n",
        "JOIN employees e ON st.ID_Usr = e.ID_Usr\n",
        "JOIN salary sa ON e.ID_Usr = sa.ID_Usr\n",
        "GROUP BY st.Institution\n",
        "ORDER BY avg_salary DESC\n",
        "LIMIT 1;\n",
        "```"
      ],
      "metadata": {
        "id": "H3A8p1wzrdFw"
      },
      "id": "H3A8p1wzrdFw"
    },
    {
      "cell_type": "markdown",
      "source": [],
      "metadata": {
        "id": "hnxjq6TvrYl1"
      },
      "id": "hnxjq6TvrYl1"
    },
    {
      "cell_type": "code",
      "execution_count": 21,
      "id": "5aa318d4-dd9f-41db-8ff4-c1d87220f766",
      "metadata": {
        "colab": {
          "base_uri": "https://localhost:8080/"
        },
        "id": "5aa318d4-dd9f-41db-8ff4-c1d87220f766",
        "outputId": "382a3ca0-7c25-48d9-c05e-c30c443ca4f3"
      },
      "outputs": [
        {
          "output_type": "stream",
          "name": "stdout",
          "text": [
            "This is your SQL:\n",
            "```sql\n",
            "SELECT s.Institution, AVG(sa.salary) AS avg_salary\n",
            "FROM employees e\n",
            "JOIN studies st ON e.ID_usr = st.ID_usr\n",
            "JOIN salary sa ON e.ID_usr = sa.ID_usr\n",
            "GROUP BY s.Institution\n",
            "ORDER BY avg_salary DESC\n",
            "LIMIT 1;\n",
            "```\n",
            "\n",
            "This SQL query joins the three tables (employees, studies, and salary) based on the employee ID. It calculates the average salary for each institution where employees have studied, then orders the results by the average salary in descending order and limits the output to show only the institution with the highest average salary.\n"
          ]
        }
      ],
      "source": [
        "#old\n",
        "print(return_CCRMSQL(\"Find the institution with the highest average salary among employees who have studied\", old_context_user))"
      ]
    },
    {
      "cell_type": "markdown",
      "source": [
        "This is your SQL:\n",
        "```sql\n",
        "SELECT s.Institution\n",
        "FROM studies s\n",
        "JOIN salary sa ON s.ID_usr = sa.ID_usr\n",
        "GROUP BY s.Institution\n",
        "ORDER BY AVG(sa.salary) DESC\n",
        "LIMIT 1;\n",
        "```\n",
        "\n",
        "This SQL query joins the \"studies\" and \"salary\" tables on the ID_usr column. It then calculates the average salary for each institution, orders the results in descending order based on the average salary, and returns the institution with the highest average salary."
      ],
      "metadata": {
        "id": "7eMMdHE_r6oS"
      },
      "id": "7eMMdHE_r6oS"
    },
    {
      "cell_type": "markdown",
      "id": "0f31968e-74ad-4ae2-9537-b3d550b1be47",
      "metadata": {
        "id": "0f31968e-74ad-4ae2-9537-b3d550b1be47"
      },
      "source": [
        "# Exercise\n",
        " - Complete the prompts similar to what we did in class.\n",
        "     - Try at least 3 versions\n",
        "     - Be creative\n",
        " - Write a one page report summarizing your findings.\n",
        "     - Were there variations that didn't work well? i.e., where GPT either hallucinated or wrong.\n",
        "     - What did you learn?"
      ]
    },
    {
      "cell_type": "code",
      "source": [
        "print(return_CCRMSQL(\"find the highest salary among all employees\", context_user))"
      ],
      "metadata": {
        "colab": {
          "base_uri": "https://localhost:8080/"
        },
        "id": "a2CniqVQsiRO",
        "outputId": "4fdb2d66-c964-4c29-82ca-ae3571f27f1c"
      },
      "id": "a2CniqVQsiRO",
      "execution_count": 22,
      "outputs": [
        {
          "output_type": "stream",
          "name": "stdout",
          "text": [
            "this is your SQL:\n",
            "```sql\n",
            "SELECT MAX(salary) AS highest_salary FROM salary;\n",
            "```\n",
            "This SQL query selects the maximum salary from the `salary` table, giving you the highest salary among all employees.\n"
          ]
        }
      ]
    },
    {
      "cell_type": "code",
      "source": [
        "print(return_CCRMSQL(\"find the highest salary among all employees\", old_context_user))"
      ],
      "metadata": {
        "colab": {
          "base_uri": "https://localhost:8080/"
        },
        "id": "EXkcba1PsqRp",
        "outputId": "c1c017c1-68dc-4eb8-f104-b2239494f310"
      },
      "id": "EXkcba1PsqRp",
      "execution_count": 23,
      "outputs": [
        {
          "output_type": "stream",
          "name": "stdout",
          "text": [
            "This is your SQL:\n",
            "```sql\n",
            "SELECT MAX(salary) AS highest_salary\n",
            "FROM salary;\n",
            "```\n",
            "\n",
            "This SQL query selects the maximum (highest) salary from the \"salary\" table, returning it as \"highest_salary\".\n"
          ]
        }
      ]
    },
    {
      "cell_type": "code",
      "source": [
        "print(return_CCRMSQL(\"find the average salary of employees who studied grouped by universoty\", context_user))"
      ],
      "metadata": {
        "colab": {
          "base_uri": "https://localhost:8080/"
        },
        "id": "ijPsHfgtswFD",
        "outputId": "98acde36-996c-43bb-d0de-b6eb8a91918c"
      },
      "id": "ijPsHfgtswFD",
      "execution_count": 25,
      "outputs": [
        {
          "output_type": "stream",
          "name": "stdout",
          "text": [
            "this is your SQL:\n",
            "```sql\n",
            "SELECT s.Institution, AVG(sa.salary) AS avg_salary\n",
            "FROM studies s\n",
            "JOIN salary sa ON s.ID_usr = sa.ID_usr\n",
            "GROUP BY s.Institution;\n",
            "```\n",
            "\n",
            "This SQL query joins the `studies` table with the `salary` table on the `ID_usr` column. It then calculates the average salary (`AVG`) for employees who studied at each university (`Institution`) by grouping the results based on the university.\n"
          ]
        }
      ]
    },
    {
      "cell_type": "code",
      "source": [
        "print(return_CCRMSQL(\"find the average salary of employees who studied grouped by universoty\", old_context_user))"
      ],
      "metadata": {
        "colab": {
          "base_uri": "https://localhost:8080/"
        },
        "id": "p1oqY6eSs5YU",
        "outputId": "7ab0f42a-5b7b-4691-ab64-dccd6751c884"
      },
      "id": "p1oqY6eSs5YU",
      "execution_count": 26,
      "outputs": [
        {
          "output_type": "stream",
          "name": "stdout",
          "text": [
            "This is your SQL:\n",
            "```sql\n",
            "SELECT s.Institution, AVG(sa.salary) AS average_salary\n",
            "FROM employees e\n",
            "JOIN studies st ON e.ID_usr = st.ID_usr\n",
            "JOIN salary sa ON e.ID_usr = sa.ID_usr\n",
            "GROUP BY s.Institution;\n",
            "```\n",
            "\n",
            "This SQL query joins the three tables (employees, studies, and salary) based on the employee ID. It then calculates the average salary of employees who studied at each university by grouping the results by the university's name.\n"
          ]
        }
      ]
    }
  ],
  "metadata": {
    "colab": {
      "provenance": []
    },
    "kernelspec": {
      "display_name": "Python 3 (ipykernel)",
      "language": "python",
      "name": "python3"
    },
    "language_info": {
      "codemirror_mode": {
        "name": "ipython",
        "version": 3
      },
      "file_extension": ".py",
      "mimetype": "text/x-python",
      "name": "python",
      "nbconvert_exporter": "python",
      "pygments_lexer": "ipython3",
      "version": "3.11.8"
    }
  },
  "nbformat": 4,
  "nbformat_minor": 5
}